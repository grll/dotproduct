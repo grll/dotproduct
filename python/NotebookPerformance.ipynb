{
 "cells": [
  {
   "cell_type": "code",
   "execution_count": 1,
   "id": "bbf69e42-dc42-48b1-a229-914d7146d6c4",
   "metadata": {},
   "outputs": [],
   "source": [
    "import struct\n",
    "\n",
    "SIZE = 1048576\n",
    "\n",
    "with open(\"../c/data.binary\", \"rb\") as f:\n",
    "    x_iter = struct.iter_unpack('f', f.read(4*SIZE))\n",
    "    w_iter = struct.iter_unpack('f', f.read(4*SIZE))"
   ]
  },
  {
   "cell_type": "code",
   "execution_count": 2,
   "id": "c580b661-48f7-4f7b-90f0-ca29dd1ccb6e",
   "metadata": {},
   "outputs": [],
   "source": [
    "x = [x[0] for x in x_iter]\n",
    "w = [w[0] for w in w_iter]"
   ]
  },
  {
   "cell_type": "code",
   "execution_count": 3,
   "id": "badc41b2-5782-4eb0-879a-04f9ef81c0d6",
   "metadata": {},
   "outputs": [],
   "source": [
    "import numpy as np\n",
    "\n",
    "np_x = np.array(x)\n",
    "np_w = np.array(w)"
   ]
  },
  {
   "cell_type": "code",
   "execution_count": 4,
   "id": "4bfde907-a2c8-42fe-b9d0-120e5fe4fb08",
   "metadata": {},
   "outputs": [
    {
     "name": "stdout",
     "output_type": "stream",
     "text": [
      "60.1 µs ± 5.46 µs per loop (mean ± std. dev. of 7 runs, 10,000 loops each)\n"
     ]
    }
   ],
   "source": [
    "%%timeit\n",
    "a = np.dot(np_x, np_w)"
   ]
  },
  {
   "cell_type": "code",
   "execution_count": 5,
   "id": "79309dca-3606-48d0-b8b0-1949420905d7",
   "metadata": {},
   "outputs": [
    {
     "data": {
      "text/plain": [
       "294.5037726055393"
      ]
     },
     "execution_count": 5,
     "metadata": {},
     "output_type": "execute_result"
    }
   ],
   "source": [
    "np.dot(np_x, np_w)"
   ]
  },
  {
   "cell_type": "code",
   "execution_count": 6,
   "id": "0a652bb6-d568-4d44-9c67-d97ba7600070",
   "metadata": {},
   "outputs": [],
   "source": [
    "def dot(x, w):\n",
    "    \n",
    "    a = 0\n",
    "    for i in range(SIZE):\n",
    "        a += x[i] * w[i]\n",
    "    return a"
   ]
  },
  {
   "cell_type": "code",
   "execution_count": 7,
   "id": "a8beed1b-4c6a-4ef0-ab22-c261840e747d",
   "metadata": {},
   "outputs": [
    {
     "name": "stdout",
     "output_type": "stream",
     "text": [
      "75.4 ms ± 995 µs per loop (mean ± std. dev. of 7 runs, 10 loops each)\n"
     ]
    }
   ],
   "source": [
    "%%timeit\n",
    "a = dot(x, w)"
   ]
  },
  {
   "cell_type": "code",
   "execution_count": 8,
   "id": "1a721308-4bca-4de8-b838-88f1c5937a47",
   "metadata": {},
   "outputs": [
    {
     "data": {
      "text/plain": [
       "294.5037726055409"
      ]
     },
     "execution_count": 8,
     "metadata": {},
     "output_type": "execute_result"
    }
   ],
   "source": [
    "dot(x,w)"
   ]
  },
  {
   "cell_type": "code",
   "execution_count": 3,
   "id": "98eeb694-67a0-4bae-8415-af4b859237a1",
   "metadata": {},
   "outputs": [],
   "source": [
    "import torch"
   ]
  },
  {
   "cell_type": "code",
   "execution_count": 4,
   "id": "d1015e71-3faa-498a-b8b7-d5d3d43c589e",
   "metadata": {},
   "outputs": [],
   "source": [
    "torch_x = torch.tensor(x)\n",
    "torch_w = torch.tensor(w)"
   ]
  },
  {
   "cell_type": "code",
   "execution_count": 5,
   "id": "aba3d5fb-3495-4646-a106-4d0c94f19696",
   "metadata": {},
   "outputs": [
    {
     "name": "stdout",
     "output_type": "stream",
     "text": [
      "24.5 µs ± 897 ns per loop (mean ± std. dev. of 7 runs, 10,000 loops each)\n"
     ]
    }
   ],
   "source": [
    "%%timeit\n",
    "torch.dot(torch_x, torch_w)"
   ]
  },
  {
   "cell_type": "code",
   "execution_count": 6,
   "id": "d1da4f05-e684-4391-9d84-ae5e383b9b0a",
   "metadata": {},
   "outputs": [
    {
     "data": {
      "text/plain": [
       "tensor([-0.6405,  0.2296,  0.7666,  ...,  0.3870,  0.0557, -0.8330],\n",
       "       device='cuda:0')"
      ]
     },
     "execution_count": 6,
     "metadata": {},
     "output_type": "execute_result"
    }
   ],
   "source": [
    "torch_x.to(\"cuda\")\n",
    "torch_w.to(\"cuda\")"
   ]
  },
  {
   "cell_type": "code",
   "execution_count": 8,
   "id": "b766a0b7-eab3-487a-9b86-90a63a26243b",
   "metadata": {},
   "outputs": [
    {
     "name": "stdout",
     "output_type": "stream",
     "text": [
      "24.1 µs ± 1.4 µs per loop (mean ± std. dev. of 7 runs, 10,000 loops each)\n"
     ]
    }
   ],
   "source": [
    "%%timeit\n",
    "torch.dot(torch_x, torch_w)"
   ]
  },
  {
   "cell_type": "code",
   "execution_count": null,
   "id": "956c8cc6-4cf6-46c1-b6b2-42839d3cf957",
   "metadata": {},
   "outputs": [],
   "source": []
  }
 ],
 "metadata": {
  "kernelspec": {
   "display_name": "Python 3 (ipykernel)",
   "language": "python",
   "name": "python3"
  },
  "language_info": {
   "codemirror_mode": {
    "name": "ipython",
    "version": 3
   },
   "file_extension": ".py",
   "mimetype": "text/x-python",
   "name": "python",
   "nbconvert_exporter": "python",
   "pygments_lexer": "ipython3",
   "version": "3.10.12"
  }
 },
 "nbformat": 4,
 "nbformat_minor": 5
}
