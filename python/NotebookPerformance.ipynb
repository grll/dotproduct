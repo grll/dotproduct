{
 "cells": [
  {
   "cell_type": "code",
   "execution_count": 1,
   "id": "bbf69e42-dc42-48b1-a229-914d7146d6c4",
   "metadata": {},
   "outputs": [],
   "source": [
    "import struct\n",
    "\n",
    "SIZE = 1000000\n",
    "\n",
    "with open(\"../c/data.binary\", \"rb\") as f:\n",
    "    x_iter = struct.iter_unpack('f', f.read(4*SIZE))\n",
    "    w_iter = struct.iter_unpack('f', f.read(4*SIZE))"
   ]
  },
  {
   "cell_type": "code",
   "execution_count": 2,
   "id": "c580b661-48f7-4f7b-90f0-ca29dd1ccb6e",
   "metadata": {},
   "outputs": [],
   "source": [
    "x = [x[0] for x in x_iter]\n",
    "w = [w[0] for w in w_iter]"
   ]
  },
  {
   "cell_type": "code",
   "execution_count": 3,
   "id": "badc41b2-5782-4eb0-879a-04f9ef81c0d6",
   "metadata": {},
   "outputs": [],
   "source": [
    "import numpy as np\n",
    "\n",
    "np_x = np.array(x)\n",
    "np_w = np.array(w)"
   ]
  },
  {
   "cell_type": "code",
   "execution_count": 4,
   "id": "4bfde907-a2c8-42fe-b9d0-120e5fe4fb08",
   "metadata": {},
   "outputs": [
    {
     "name": "stdout",
     "output_type": "stream",
     "text": [
      "53.6 µs ± 3.47 µs per loop (mean ± std. dev. of 7 runs, 10,000 loops each)\n"
     ]
    }
   ],
   "source": [
    "%%timeit\n",
    "a = np.dot(np_x, np_w)"
   ]
  },
  {
   "cell_type": "code",
   "execution_count": 6,
   "id": "79309dca-3606-48d0-b8b0-1949420905d7",
   "metadata": {},
   "outputs": [
    {
     "data": {
      "text/plain": [
       "-323.3591134315566"
      ]
     },
     "execution_count": 6,
     "metadata": {},
     "output_type": "execute_result"
    }
   ],
   "source": [
    "np.dot(np_x, np_w)"
   ]
  },
  {
   "cell_type": "markdown",
   "id": "54be2099-a6ed-40eb-875c-e068e32ef611",
   "metadata": {},
   "source": [
    "def dot(x, w):\n",
    "    \n",
    "    a = 0\n",
    "    for i in range(SIZE):\n",
    "        a += x[i] * w[i]\n",
    "    return a"
   ]
  },
  {
   "cell_type": "code",
   "execution_count": 21,
   "id": "a8beed1b-4c6a-4ef0-ab22-c261840e747d",
   "metadata": {},
   "outputs": [
    {
     "name": "stdout",
     "output_type": "stream",
     "text": [
      "67.9 ms ± 1.98 ms per loop (mean ± std. dev. of 7 runs, 10 loops each)\n"
     ]
    }
   ],
   "source": [
    "%%timeit\n",
    "a = dot(x, w)"
   ]
  },
  {
   "cell_type": "code",
   "execution_count": 23,
   "id": "1a721308-4bca-4de8-b838-88f1c5937a47",
   "metadata": {},
   "outputs": [
    {
     "data": {
      "text/plain": [
       "-323.3591134315583"
      ]
     },
     "execution_count": 23,
     "metadata": {},
     "output_type": "execute_result"
    }
   ],
   "source": [
    "dot(x,w)"
   ]
  }
 ],
 "metadata": {
  "kernelspec": {
   "display_name": "Python 3 (ipykernel)",
   "language": "python",
   "name": "python3"
  },
  "language_info": {
   "codemirror_mode": {
    "name": "ipython",
    "version": 3
   },
   "file_extension": ".py",
   "mimetype": "text/x-python",
   "name": "python",
   "nbconvert_exporter": "python",
   "pygments_lexer": "ipython3",
   "version": "3.10.12"
  }
 },
 "nbformat": 4,
 "nbformat_minor": 5
}
